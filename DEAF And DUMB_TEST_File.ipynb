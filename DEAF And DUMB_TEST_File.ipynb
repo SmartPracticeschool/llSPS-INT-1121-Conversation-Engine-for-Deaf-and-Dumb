{
 "cells": [
  {
   "cell_type": "code",
   "execution_count": 24,
   "metadata": {},
   "outputs": [
    {
     "name": "stdout",
     "output_type": "stream",
     "text": [
      "two\n"
     ]
    }
   ],
   "source": [
    "import numpy as np\n",
    "import cv2\n",
    "from skimage.transform import resize\n",
    "from keras.models import load_model\n",
    "roi=cv2.imread(\"21.jpg\")\n",
    "def detect(frame):\n",
    "    try:\n",
    "        img = resize(frame,(64,64,1))\n",
    "        img = np.expand_dims(img,axis=0)\n",
    "        if(np.max(img)>1):\n",
    "            img = img/255.0\n",
    "        classifier = load_model('myclassifier.h5')\n",
    "        prediction = classifier.predict(img)\n",
    "        prediction = classifier.predict_classes(img)\n",
    "        ls=[\"zero\",\"one\",\"two\",\"three\",\"four\",\"five\"]\n",
    "        print(ls[prediction[0]])\n",
    "        return prediction\n",
    "    except AttributeError:\n",
    "        print(\"shape not found\")\n",
    "data=detect(roi)"
   ]
  },
  {
   "cell_type": "code",
   "execution_count": null,
   "metadata": {},
   "outputs": [],
   "source": []
  },
  {
   "cell_type": "code",
   "execution_count": null,
   "metadata": {},
   "outputs": [],
   "source": []
  },
  {
   "cell_type": "code",
   "execution_count": null,
   "metadata": {},
   "outputs": [],
   "source": []
  }
 ],
 "metadata": {
  "kernelspec": {
   "display_name": "Python 3",
   "language": "python",
   "name": "python3"
  },
  "language_info": {
   "codemirror_mode": {
    "name": "ipython",
    "version": 3
   },
   "file_extension": ".py",
   "mimetype": "text/x-python",
   "name": "python",
   "nbconvert_exporter": "python",
   "pygments_lexer": "ipython3",
   "version": "3.7.4"
  }
 },
 "nbformat": 4,
 "nbformat_minor": 2
}
