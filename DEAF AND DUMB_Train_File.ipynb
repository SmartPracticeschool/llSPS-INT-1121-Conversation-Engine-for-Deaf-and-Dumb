{
 "cells": [
  {
   "cell_type": "code",
   "execution_count": 17,
   "metadata": {},
   "outputs": [],
   "source": [
    "from keras.models import Sequential\n",
    "from keras.layers import Convolution2D\n",
    "from keras.layers import MaxPooling2D\n",
    "from keras.layers import Flatten\n",
    "from keras.layers import Dense\n",
    "\n",
    "# importing keras layers and models --->model building libraries"
   ]
  },
  {
   "cell_type": "code",
   "execution_count": 18,
   "metadata": {},
   "outputs": [],
   "source": [
    "\n",
    "\n",
    "# Initializing the CNN\n",
    "classifier = Sequential()\n",
    "\n",
    "\n",
    "\n",
    "#ADDING CNN LAYERS\n",
    "\n",
    "# First convolution layer and pooling\n",
    "classifier.add(Convolution2D(32, (3, 3), input_shape=(64, 64, 1), activation='relu'))\n",
    "classifier.add(MaxPooling2D(pool_size=(2, 2)))\n",
    "# Second convolution layer and pooling\n",
    "classifier.add(Convolution2D(32, (3, 3), activation='relu'))\n",
    "classifier.add(MaxPooling2D(pool_size=(2, 2)))\n",
    "\n",
    "# Flattening the layers\n",
    "classifier.add(Flatten())\n",
    "\n"
   ]
  },
  {
   "cell_type": "code",
   "execution_count": 19,
   "metadata": {},
   "outputs": [],
   "source": [
    "# Adding a fully connected layer---->Adding Dense Lyer\n",
    "classifier.add(Dense(units=128, activation='relu'))\n",
    "classifier.add(Dense(units=6, activation='softmax')) # softmax for more than 2\n"
   ]
  },
  {
   "cell_type": "code",
   "execution_count": 20,
   "metadata": {},
   "outputs": [],
   "source": [
    "# Compiling the CNN or configuring the model #optimaztion\n",
    "classifier.compile(optimizer='adam', loss='categorical_crossentropy', metrics=['accuracy']) # categorical_crossentropy for more than 2\n",
    "\n",
    "\n",
    "#importing Image Data Generator\n",
    "\n",
    "from keras.preprocessing.image import ImageDataGenerator\n",
    "\n"
   ]
  },
  {
   "cell_type": "code",
   "execution_count": 22,
   "metadata": {},
   "outputs": [
    {
     "name": "stdout",
     "output_type": "stream",
     "text": [
      "Found 663 images belonging to 6 classes.\n",
      "Found 30 images belonging to 6 classes.\n",
      "Epoch 1/10\n",
      "700/700 [==============================] - 124s 177ms/step - loss: 0.7162 - accuracy: 0.7057 - val_loss: 0.0526 - val_accuracy: 0.9667\n",
      "Epoch 2/10\n",
      "700/700 [==============================] - 90s 128ms/step - loss: 0.2212 - accuracy: 0.9209 - val_loss: 0.3100 - val_accuracy: 0.9000\n",
      "Epoch 3/10\n",
      "700/700 [==============================] - 89s 128ms/step - loss: 0.1002 - accuracy: 0.9688 - val_loss: 1.4159 - val_accuracy: 0.9333\n",
      "Epoch 4/10\n",
      "700/700 [==============================] - 97s 138ms/step - loss: 0.0739 - accuracy: 0.9756 - val_loss: 0.1043 - val_accuracy: 0.9667\n",
      "Epoch 5/10\n",
      "700/700 [==============================] - 93s 133ms/step - loss: 0.0263 - accuracy: 0.9920 - val_loss: 1.3202e-04 - val_accuracy: 0.9667\n",
      "Epoch 6/10\n",
      "700/700 [==============================] - 89s 127ms/step - loss: 0.0375 - accuracy: 0.9891 - val_loss: 0.0155 - val_accuracy: 0.9667\n",
      "Epoch 7/10\n",
      "700/700 [==============================] - 92s 132ms/step - loss: 0.0389 - accuracy: 0.9865 - val_loss: 2.5958 - val_accuracy: 0.9333\n",
      "Epoch 8/10\n",
      "700/700 [==============================] - 91s 130ms/step - loss: 0.0417 - accuracy: 0.9888 - val_loss: 3.5763e-06 - val_accuracy: 0.9667\n",
      "Epoch 9/10\n",
      "700/700 [==============================] - 92s 131ms/step - loss: 0.0332 - accuracy: 0.9891 - val_loss: 2.5523e-04 - val_accuracy: 0.9333\n",
      "Epoch 10/10\n",
      "700/700 [==============================] - 91s 130ms/step - loss: 0.0231 - accuracy: 0.9925 - val_loss: 1.5211e-05 - val_accuracy: 0.9000\n"
     ]
    }
   ],
   "source": [
    "#train and testing ..#IMAGEDATA GENERATOR FUNCTIONALITY TO TRAIN AND TEST SET\n",
    "train_datagen = ImageDataGenerator(\n",
    "        rescale=1./255,\n",
    "        shear_range=0.2,\n",
    "        zoom_range=0.2,\n",
    "        horizontal_flip=True)\n",
    "\n",
    "test_datagen = ImageDataGenerator(rescale=1./255)\n",
    "\n",
    "#TRAINING AND TEST THE MODEL\n",
    "\n",
    "training_set = train_datagen.flow_from_directory('data/train',\n",
    "                                                 target_size=(64, 64),\n",
    "                                                 batch_size=5,\n",
    "                                                 color_mode='grayscale',\n",
    "                                                 class_mode='categorical')\n",
    "\n",
    "test_set = test_datagen.flow_from_directory('data/test',\n",
    "                                            target_size=(64, 64),\n",
    "                                            batch_size=5,\n",
    "                                            color_mode='grayscale',\n",
    "                                            class_mode='categorical') \n",
    "classifier.fit_generator(\n",
    "        training_set,\n",
    "        steps_per_epoch=700, # No of images in training set\n",
    "        epochs=10,\n",
    "        validation_data=test_set,\n",
    "        validation_steps=30)# No of images in test set\n",
    "\n",
    "\n",
    "# SAVING THE MODEL\n",
    "classifier.save('myclassifier.h5')"
   ]
  },
  {
   "cell_type": "code",
   "execution_count": null,
   "metadata": {},
   "outputs": [],
   "source": []
  },
  {
   "cell_type": "code",
   "execution_count": null,
   "metadata": {},
   "outputs": [],
   "source": []
  },
  {
   "cell_type": "code",
   "execution_count": null,
   "metadata": {},
   "outputs": [],
   "source": []
  },
  {
   "cell_type": "code",
   "execution_count": null,
   "metadata": {},
   "outputs": [],
   "source": []
  }
 ],
 "metadata": {
  "kernelspec": {
   "display_name": "Python 3",
   "language": "python",
   "name": "python3"
  },
  "language_info": {
   "codemirror_mode": {
    "name": "ipython",
    "version": 3
   },
   "file_extension": ".py",
   "mimetype": "text/x-python",
   "name": "python",
   "nbconvert_exporter": "python",
   "pygments_lexer": "ipython3",
   "version": "3.7.4"
  }
 },
 "nbformat": 4,
 "nbformat_minor": 2
}
